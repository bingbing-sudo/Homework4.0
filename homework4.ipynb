{
 "cells": [
  {
   "cell_type": "code",
   "execution_count": 20,
   "id": "ab5baa34-2b07-4c7d-9d77-ff3dd5f9ffd9",
   "metadata": {},
   "outputs": [],
   "source": [
    "import pandas as pd\n",
    "import numpy as np\n",
    "from sklearn.datasets import load_wine\n",
    "from sklearn.impute import SimpleImputer\n",
    "from sklearn.preprocessing import StandardScaler\n",
    "from scipy.cluster.hierarchy import dendrogram, linkage, fcluster\n",
    "from sklearn.metrics import homogeneity_score, completeness_score,silhouette_score\n",
    "import matplotlib.pyplot as plt\n",
    "from sklearn.cluster import KMeans,AgglomerativeClustering"
   ]
  },
  {
   "cell_type": "markdown",
   "id": "11680817-1802-4c5a-8ac9-f9507bec558a",
   "metadata": {},
   "source": [
    "# Problem 1"
   ]
  },
  {
   "cell_type": "code",
   "execution_count": 15,
   "id": "9cc397fb-1bb0-4ff8-8efa-adf89326d636",
   "metadata": {},
   "outputs": [
    {
     "data": {
      "text/html": [
       "<div>\n",
       "<style scoped>\n",
       "    .dataframe tbody tr th:only-of-type {\n",
       "        vertical-align: middle;\n",
       "    }\n",
       "\n",
       "    .dataframe tbody tr th {\n",
       "        vertical-align: top;\n",
       "    }\n",
       "\n",
       "    .dataframe thead th {\n",
       "        text-align: right;\n",
       "    }\n",
       "</style>\n",
       "<table border=\"1\" class=\"dataframe\">\n",
       "  <thead>\n",
       "    <tr style=\"text-align: right;\">\n",
       "      <th></th>\n",
       "      <th>mpg</th>\n",
       "      <th>cylinders</th>\n",
       "      <th>displacement</th>\n",
       "      <th>horsepower</th>\n",
       "      <th>weight</th>\n",
       "      <th>acceleration</th>\n",
       "      <th>model_year</th>\n",
       "      <th>origin</th>\n",
       "      <th>car_name</th>\n",
       "    </tr>\n",
       "  </thead>\n",
       "  <tbody>\n",
       "    <tr>\n",
       "      <th>0</th>\n",
       "      <td>18.0</td>\n",
       "      <td>8</td>\n",
       "      <td>307.0</td>\n",
       "      <td>130.0</td>\n",
       "      <td>3504.0</td>\n",
       "      <td>12.0</td>\n",
       "      <td>70</td>\n",
       "      <td>1</td>\n",
       "      <td>chevrolet chevelle malibu</td>\n",
       "    </tr>\n",
       "    <tr>\n",
       "      <th>1</th>\n",
       "      <td>15.0</td>\n",
       "      <td>8</td>\n",
       "      <td>350.0</td>\n",
       "      <td>165.0</td>\n",
       "      <td>3693.0</td>\n",
       "      <td>11.5</td>\n",
       "      <td>70</td>\n",
       "      <td>1</td>\n",
       "      <td>buick skylark 320</td>\n",
       "    </tr>\n",
       "    <tr>\n",
       "      <th>2</th>\n",
       "      <td>18.0</td>\n",
       "      <td>8</td>\n",
       "      <td>318.0</td>\n",
       "      <td>150.0</td>\n",
       "      <td>3436.0</td>\n",
       "      <td>11.0</td>\n",
       "      <td>70</td>\n",
       "      <td>1</td>\n",
       "      <td>plymouth satellite</td>\n",
       "    </tr>\n",
       "    <tr>\n",
       "      <th>3</th>\n",
       "      <td>16.0</td>\n",
       "      <td>8</td>\n",
       "      <td>304.0</td>\n",
       "      <td>150.0</td>\n",
       "      <td>3433.0</td>\n",
       "      <td>12.0</td>\n",
       "      <td>70</td>\n",
       "      <td>1</td>\n",
       "      <td>amc rebel sst</td>\n",
       "    </tr>\n",
       "    <tr>\n",
       "      <th>4</th>\n",
       "      <td>17.0</td>\n",
       "      <td>8</td>\n",
       "      <td>302.0</td>\n",
       "      <td>140.0</td>\n",
       "      <td>3449.0</td>\n",
       "      <td>10.5</td>\n",
       "      <td>70</td>\n",
       "      <td>1</td>\n",
       "      <td>ford torino</td>\n",
       "    </tr>\n",
       "  </tbody>\n",
       "</table>\n",
       "</div>"
      ],
      "text/plain": [
       "    mpg  cylinders  displacement  horsepower  weight  acceleration  \\\n",
       "0  18.0          8         307.0       130.0  3504.0          12.0   \n",
       "1  15.0          8         350.0       165.0  3693.0          11.5   \n",
       "2  18.0          8         318.0       150.0  3436.0          11.0   \n",
       "3  16.0          8         304.0       150.0  3433.0          12.0   \n",
       "4  17.0          8         302.0       140.0  3449.0          10.5   \n",
       "\n",
       "   model_year  origin                   car_name  \n",
       "0          70       1  chevrolet chevelle malibu  \n",
       "1          70       1          buick skylark 320  \n",
       "2          70       1         plymouth satellite  \n",
       "3          70       1              amc rebel sst  \n",
       "4          70       1                ford torino  "
      ]
     },
     "execution_count": 15,
     "metadata": {},
     "output_type": "execute_result"
    }
   ],
   "source": [
    "#Load Dataset\n",
    "column_names = ['mpg', 'cylinders', 'displacement', 'horsepower', 'weight',\n",
    "                'acceleration', 'model_year', 'origin', 'car_name']\n",
    "url = 'https://archive.ics.uci.edu/ml/machine-learning-databases/auto-mpg/auto-mpg.data'\n",
    "\n",
    "df = pd.read_csv(url, delim_whitespace=True, names=column_names, na_values='?')\n",
    "df.head()"
   ]
  },
  {
   "cell_type": "code",
   "execution_count": 16,
   "id": "57b32af6-f580-4395-a20d-9d2c47927e16",
   "metadata": {},
   "outputs": [],
   "source": [
    "#Select continuous features: only feature with float data types are considered\n",
    "continuous_cols = ['mpg', 'displacement', 'horsepower', 'weight', 'acceleration']      \n",
    "df_cont = df[continuous_cols]"
   ]
  },
  {
   "cell_type": "code",
   "execution_count": 17,
   "id": "03d8f3d3-eb18-46f2-8260-0fce477e8451",
   "metadata": {},
   "outputs": [],
   "source": [
    "#Impute missing values with mean\n",
    "imputer = SimpleImputer(strategy='mean')\n",
    "df_cont_imputed = pd.DataFrame(imputer.fit_transform(df_cont), columns=continuous_cols)"
   ]
  },
  {
   "cell_type": "code",
   "execution_count": 18,
   "id": "b44eeee1-bddd-496b-bfe2-dc949b033526",
   "metadata": {},
   "outputs": [],
   "source": [
    "#Standardize data\n",
    "scaler = StandardScaler()\n",
    "df_scaled = scaler.fit_transform(df_cont_imputed)"
   ]
  },
  {
   "cell_type": "code",
   "execution_count": 21,
   "id": "bb705dd9-2ad2-46db-be09-94375ab0f1f6",
   "metadata": {
    "scrolled": true
   },
   "outputs": [
    {
     "data": {
      "text/html": [
       "<div>\n",
       "<style scoped>\n",
       "    .dataframe tbody tr th:only-of-type {\n",
       "        vertical-align: middle;\n",
       "    }\n",
       "\n",
       "    .dataframe tbody tr th {\n",
       "        vertical-align: top;\n",
       "    }\n",
       "\n",
       "    .dataframe thead th {\n",
       "        text-align: right;\n",
       "    }\n",
       "</style>\n",
       "<table border=\"1\" class=\"dataframe\">\n",
       "  <thead>\n",
       "    <tr style=\"text-align: right;\">\n",
       "      <th></th>\n",
       "      <th>mpg</th>\n",
       "      <th>cylinders</th>\n",
       "      <th>displacement</th>\n",
       "      <th>horsepower</th>\n",
       "      <th>weight</th>\n",
       "      <th>acceleration</th>\n",
       "      <th>model_year</th>\n",
       "      <th>origin</th>\n",
       "      <th>car_name</th>\n",
       "      <th>hierarchical_cluster</th>\n",
       "    </tr>\n",
       "  </thead>\n",
       "  <tbody>\n",
       "    <tr>\n",
       "      <th>0</th>\n",
       "      <td>18.0</td>\n",
       "      <td>8</td>\n",
       "      <td>307.0</td>\n",
       "      <td>130.0</td>\n",
       "      <td>3504.0</td>\n",
       "      <td>12.0</td>\n",
       "      <td>70</td>\n",
       "      <td>1</td>\n",
       "      <td>chevrolet chevelle malibu</td>\n",
       "      <td>1</td>\n",
       "    </tr>\n",
       "    <tr>\n",
       "      <th>1</th>\n",
       "      <td>15.0</td>\n",
       "      <td>8</td>\n",
       "      <td>350.0</td>\n",
       "      <td>165.0</td>\n",
       "      <td>3693.0</td>\n",
       "      <td>11.5</td>\n",
       "      <td>70</td>\n",
       "      <td>1</td>\n",
       "      <td>buick skylark 320</td>\n",
       "      <td>1</td>\n",
       "    </tr>\n",
       "    <tr>\n",
       "      <th>2</th>\n",
       "      <td>18.0</td>\n",
       "      <td>8</td>\n",
       "      <td>318.0</td>\n",
       "      <td>150.0</td>\n",
       "      <td>3436.0</td>\n",
       "      <td>11.0</td>\n",
       "      <td>70</td>\n",
       "      <td>1</td>\n",
       "      <td>plymouth satellite</td>\n",
       "      <td>1</td>\n",
       "    </tr>\n",
       "    <tr>\n",
       "      <th>3</th>\n",
       "      <td>16.0</td>\n",
       "      <td>8</td>\n",
       "      <td>304.0</td>\n",
       "      <td>150.0</td>\n",
       "      <td>3433.0</td>\n",
       "      <td>12.0</td>\n",
       "      <td>70</td>\n",
       "      <td>1</td>\n",
       "      <td>amc rebel sst</td>\n",
       "      <td>1</td>\n",
       "    </tr>\n",
       "    <tr>\n",
       "      <th>4</th>\n",
       "      <td>17.0</td>\n",
       "      <td>8</td>\n",
       "      <td>302.0</td>\n",
       "      <td>140.0</td>\n",
       "      <td>3449.0</td>\n",
       "      <td>10.5</td>\n",
       "      <td>70</td>\n",
       "      <td>1</td>\n",
       "      <td>ford torino</td>\n",
       "      <td>1</td>\n",
       "    </tr>\n",
       "  </tbody>\n",
       "</table>\n",
       "</div>"
      ],
      "text/plain": [
       "    mpg  cylinders  displacement  horsepower  weight  acceleration  \\\n",
       "0  18.0          8         307.0       130.0  3504.0          12.0   \n",
       "1  15.0          8         350.0       165.0  3693.0          11.5   \n",
       "2  18.0          8         318.0       150.0  3436.0          11.0   \n",
       "3  16.0          8         304.0       150.0  3433.0          12.0   \n",
       "4  17.0          8         302.0       140.0  3449.0          10.5   \n",
       "\n",
       "   model_year  origin                   car_name  hierarchical_cluster  \n",
       "0          70       1  chevrolet chevelle malibu                     1  \n",
       "1          70       1          buick skylark 320                     1  \n",
       "2          70       1         plymouth satellite                     1  \n",
       "3          70       1              amc rebel sst                     1  \n",
       "4          70       1                ford torino                     1  "
      ]
     },
     "execution_count": 21,
     "metadata": {},
     "output_type": "execute_result"
    }
   ],
   "source": [
    "#Hierarchical Clustering (Dendrogram)\n",
    "agglo = AgglomerativeClustering(n_clusters=3, linkage='average', metric='euclidean')\n",
    "agglo_labels = agglo.fit_predict(df_scaled)\n",
    "df['hierarchical_cluster'] = agglo_labels\n",
    "df.head()"
   ]
  },
  {
   "cell_type": "code",
   "execution_count": 22,
   "id": "c8bcd486-121e-4f7d-914b-66350fe273fb",
   "metadata": {},
   "outputs": [
    {
     "name": "stdout",
     "output_type": "stream",
     "text": [
      "\n",
      "Hierarchical Cluster Stats:\n",
      "                            mpg            displacement               \\\n",
      "                           mean        var         mean          var   \n",
      "hierarchical_cluster                                                   \n",
      "0                     26.177441  41.303375   144.304714  3511.485383   \n",
      "1                     14.528866   4.771033   348.020619  2089.499570   \n",
      "2                     43.700000   0.300000    91.750000    12.250000   \n",
      "\n",
      "                      horsepower                   weight                 \\\n",
      "                            mean         var         mean            var   \n",
      "hierarchical_cluster                                                       \n",
      "0                      86.120275  294.554450  2598.414141  299118.709664   \n",
      "1                     161.804124  674.075816  4143.969072  193847.051117   \n",
      "2                      49.000000    4.000000  2133.750000   21672.916667   \n",
      "\n",
      "                     acceleration            \n",
      "                             mean       var  \n",
      "hierarchical_cluster                         \n",
      "0                       16.425589  4.875221  \n",
      "1                       12.641237  3.189948  \n",
      "2                       22.875000  2.309167  \n",
      "\n",
      "Origin Class Stats:\n",
      "              mpg            displacement               horsepower  \\\n",
      "             mean        var         mean          var        mean   \n",
      "origin                                                               \n",
      "1       20.083534  40.997026   245.901606  9702.612255  119.048980   \n",
      "2       27.891429  45.211230   109.142857   509.950311   80.558824   \n",
      "3       30.450633  37.088685   102.708861   535.465433   79.835443   \n",
      "\n",
      "                          weight                acceleration            \n",
      "                var         mean            var         mean       var  \n",
      "origin                                                                  \n",
      "1       1591.833657  3361.931727  631695.128385    15.033735  7.568615  \n",
      "2        406.339772  2423.300000  240142.328986    16.787143  9.276209  \n",
      "3        317.523856  2221.227848  102718.485881    16.172152  3.821779  \n"
     ]
    }
   ],
   "source": [
    "#Cluster statistics\n",
    "print(\"\\nHierarchical Cluster Stats:\")\n",
    "print(df.groupby('hierarchical_cluster')[continuous_cols].agg(['mean', 'var']))\n",
    "\n",
    "print(\"\\nOrigin Class Stats:\")\n",
    "print(df.groupby('origin')[continuous_cols].agg(['mean', 'var']))"
   ]
  },
  {
   "cell_type": "code",
   "execution_count": 23,
   "id": "f2e54ba3-ab48-4ed8-a83f-9a76d4816083",
   "metadata": {},
   "outputs": [
    {
     "name": "stdout",
     "output_type": "stream",
     "text": [
      "\n",
      "Hierarchical vs Origin:\n",
      " hierarchical_cluster    0   1  2\n",
      "origin                          \n",
      "1                     152  97  0\n",
      "2                      66   0  4\n",
      "3                      79   0  0\n"
     ]
    }
   ],
   "source": [
    "#Compare cluster with origin label\n",
    "print(\"\\nHierarchical vs Origin:\\n\", pd.crosstab(df['origin'], df['hierarchical_cluster']))"
   ]
  },
  {
   "cell_type": "code",
   "execution_count": 24,
   "id": "4a83229a-2d0a-4633-9451-5010bdb2e82b",
   "metadata": {},
   "outputs": [
    {
     "data": {
      "image/png": "[encoded data removed]",
      "text/plain": [
       "<Figure size 1200x600 with 1 Axes>"
      ]
     },
     "metadata": {},
     "output_type": "display_data"
    }
   ],
   "source": [
    "#Plot the hierarchical clustering dendrogram\n",
    "plt.figure(figsize=(12, 6))\n",
    "linked = linkage(df_scaled, method='average', metric='euclidean') \n",
    "dendrogram(linked, orientation='top', distance_sort='descending', show_leaf_counts=True)\n",
    "plt.title('Dendrogram for Hierarchical Clustering (Euclidean)')\n",
    "plt.xlabel('Sample Index')\n",
    "plt.ylabel('Euclidean Distance')\n",
    "plt.axhline(y=3, color='r', linestyle='--')  # Adjust line position based on dendrogram\n",
    "plt.show()"
   ]
  },
  {
   "cell_type": "code",
   "execution_count": 25,
   "id": "3356b70a-5f05-412d-bd65-2d6ed3d1c36a",
   "metadata": {},
   "outputs": [
    {
     "name": "stdout",
     "output_type": "stream",
     "text": [
      "\n",
      "Hierarchical F-measure: 0.4974538617845863\n"
     ]
    }
   ],
   "source": [
    "#Calculate Hierarchical F-measure\n",
    "# Calculate the total number of objects m\n",
    "m = len(df)\n",
    "# Group by class labels and calculate the number of objects m_j in each class j\n",
    "class_counts = df['origin'].value_counts()\n",
    "total_f_measure = 0\n",
    "\n",
    "for class_value in class_counts.index:\n",
    "    # Get the number of objects m_j in class j\n",
    "    m_j = class_counts[class_value]\n",
    "    f_measures = []\n",
    "    for cluster_value in df['hierarchical_cluster'].unique():\n",
    "        # Calculate the number of objects in cluster i that belong to class j\n",
    "        num_in_cluster_and_class = len(df[(df['hierarchical_cluster'] == cluster_value) & (df['origin'] == class_value)])\n",
    "        num_in_cluster = len(df[df['hierarchical_cluster'] == cluster_value])\n",
    "        num_in_class = len(df[df['origin'] == class_value])\n",
    "        precision = num_in_cluster_and_class / num_in_cluster if num_in_cluster > 0 else 0\n",
    "        recall = num_in_cluster_and_class / num_in_class if num_in_class > 0 else 0\n",
    "        f_measure = 2 * precision * recall / (precision + recall) if (precision + recall) > 0 else 0\n",
    "        f_measures.append(f_measure)\n",
    "    max_f_measure = max(f_measures)\n",
    "    total_f_measure += (m_j / m) * max_f_measure\n",
    "\n",
    "print(f\"\\nHierarchical F-measure: {total_f_measure}\")"
   ]
  },
  {
   "cell_type": "markdown",
   "id": "d0746646-bfb9-455c-a74e-9aec350e9733",
   "metadata": {},
   "source": [
    "# Problem 2"
   ]
  },
  {
   "cell_type": "code",
   "execution_count": 26,
   "id": "c5884b9d-c368-4d77-904c-d9d8213e1b97",
   "metadata": {},
   "outputs": [
    {
     "data": {
      "text/html": [
       "<div>\n",
       "<style scoped>\n",
       "    .dataframe tbody tr th:only-of-type {\n",
       "        vertical-align: middle;\n",
       "    }\n",
       "\n",
       "    .dataframe tbody tr th {\n",
       "        vertical-align: top;\n",
       "    }\n",
       "\n",
       "    .dataframe thead th {\n",
       "        text-align: right;\n",
       "    }\n",
       "</style>\n",
       "<table border=\"1\" class=\"dataframe\">\n",
       "  <thead>\n",
       "    <tr style=\"text-align: right;\">\n",
       "      <th></th>\n",
       "      <th>crim</th>\n",
       "      <th>zn</th>\n",
       "      <th>indus</th>\n",
       "      <th>chas</th>\n",
       "      <th>nox</th>\n",
       "      <th>rm</th>\n",
       "      <th>age</th>\n",
       "      <th>dis</th>\n",
       "      <th>rad</th>\n",
       "      <th>tax</th>\n",
       "      <th>ptratio</th>\n",
       "      <th>b</th>\n",
       "      <th>lstat</th>\n",
       "      <th>medv</th>\n",
       "    </tr>\n",
       "  </thead>\n",
       "  <tbody>\n",
       "    <tr>\n",
       "      <th>0</th>\n",
       "      <td>0.00632</td>\n",
       "      <td>18.0</td>\n",
       "      <td>2.31</td>\n",
       "      <td>0</td>\n",
       "      <td>0.538</td>\n",
       "      <td>6.575</td>\n",
       "      <td>65.2</td>\n",
       "      <td>4.0900</td>\n",
       "      <td>1</td>\n",
       "      <td>296</td>\n",
       "      <td>15.3</td>\n",
       "      <td>396.90</td>\n",
       "      <td>4.98</td>\n",
       "      <td>24.0</td>\n",
       "    </tr>\n",
       "    <tr>\n",
       "      <th>1</th>\n",
       "      <td>0.02731</td>\n",
       "      <td>0.0</td>\n",
       "      <td>7.07</td>\n",
       "      <td>0</td>\n",
       "      <td>0.469</td>\n",
       "      <td>6.421</td>\n",
       "      <td>78.9</td>\n",
       "      <td>4.9671</td>\n",
       "      <td>2</td>\n",
       "      <td>242</td>\n",
       "      <td>17.8</td>\n",
       "      <td>396.90</td>\n",
       "      <td>9.14</td>\n",
       "      <td>21.6</td>\n",
       "    </tr>\n",
       "    <tr>\n",
       "      <th>2</th>\n",
       "      <td>0.02729</td>\n",
       "      <td>0.0</td>\n",
       "      <td>7.07</td>\n",
       "      <td>0</td>\n",
       "      <td>0.469</td>\n",
       "      <td>7.185</td>\n",
       "      <td>61.1</td>\n",
       "      <td>4.9671</td>\n",
       "      <td>2</td>\n",
       "      <td>242</td>\n",
       "      <td>17.8</td>\n",
       "      <td>392.83</td>\n",
       "      <td>4.03</td>\n",
       "      <td>34.7</td>\n",
       "    </tr>\n",
       "    <tr>\n",
       "      <th>3</th>\n",
       "      <td>0.03237</td>\n",
       "      <td>0.0</td>\n",
       "      <td>2.18</td>\n",
       "      <td>0</td>\n",
       "      <td>0.458</td>\n",
       "      <td>6.998</td>\n",
       "      <td>45.8</td>\n",
       "      <td>6.0622</td>\n",
       "      <td>3</td>\n",
       "      <td>222</td>\n",
       "      <td>18.7</td>\n",
       "      <td>394.63</td>\n",
       "      <td>2.94</td>\n",
       "      <td>33.4</td>\n",
       "    </tr>\n",
       "    <tr>\n",
       "      <th>4</th>\n",
       "      <td>0.06905</td>\n",
       "      <td>0.0</td>\n",
       "      <td>2.18</td>\n",
       "      <td>0</td>\n",
       "      <td>0.458</td>\n",
       "      <td>7.147</td>\n",
       "      <td>54.2</td>\n",
       "      <td>6.0622</td>\n",
       "      <td>3</td>\n",
       "      <td>222</td>\n",
       "      <td>18.7</td>\n",
       "      <td>396.90</td>\n",
       "      <td>5.33</td>\n",
       "      <td>36.2</td>\n",
       "    </tr>\n",
       "  </tbody>\n",
       "</table>\n",
       "</div>"
      ],
      "text/plain": [
       "      crim    zn  indus  chas    nox     rm   age     dis  rad  tax  ptratio  \\\n",
       "0  0.00632  18.0   2.31     0  0.538  6.575  65.2  4.0900    1  296     15.3   \n",
       "1  0.02731   0.0   7.07     0  0.469  6.421  78.9  4.9671    2  242     17.8   \n",
       "2  0.02729   0.0   7.07     0  0.469  7.185  61.1  4.9671    2  242     17.8   \n",
       "3  0.03237   0.0   2.18     0  0.458  6.998  45.8  6.0622    3  222     18.7   \n",
       "4  0.06905   0.0   2.18     0  0.458  7.147  54.2  6.0622    3  222     18.7   \n",
       "\n",
       "        b  lstat  medv  \n",
       "0  396.90   4.98  24.0  \n",
       "1  396.90   9.14  21.6  \n",
       "2  392.83   4.03  34.7  \n",
       "3  394.63   2.94  33.4  \n",
       "4  396.90   5.33  36.2  "
      ]
     },
     "execution_count": 26,
     "metadata": {},
     "output_type": "execute_result"
    }
   ],
   "source": [
    "#Load Dataset\n",
    "df2 = pd.read_csv(r\"D:\\桌面\\数据挖掘\\Week 10\\Boston.csv\",na_values='?')\n",
    "df2 = df2.iloc[:, 1:]\n",
    "df2.head()"
   ]
  },
  {
   "cell_type": "code",
   "execution_count": 27,
   "id": "97fa17d7-9320-4379-b44e-4a3cd11c084d",
   "metadata": {},
   "outputs": [],
   "source": [
    "imputer = SimpleImputer(strategy='mean')\n",
    "data_imputed = imputer.fit_transform(df2)"
   ]
  },
  {
   "cell_type": "code",
   "execution_count": 28,
   "id": "93e1a46d-ad31-461c-9cc3-32499eca720c",
   "metadata": {},
   "outputs": [],
   "source": [
    "#Standardize data\n",
    "scaler = StandardScaler()\n",
    "df2_scaled = scaler.fit_transform(df2)"
   ]
  },
  {
   "cell_type": "code",
   "execution_count": 29,
   "id": "0519005a-6808-41b8-a166-04d5379dc845",
   "metadata": {},
   "outputs": [
    {
     "data": {
      "image/png": "[encoded data removed]",
      "text/plain": [
       "<Figure size 640x480 with 1 Axes>"
      ]
     },
     "metadata": {},
     "output_type": "display_data"
    },
    {
     "name": "stdout",
     "output_type": "stream",
     "text": [
      "best_k: 2，silhouette coefficient: 0.35010701730151716\n"
     ]
    }
   ],
   "source": [
    "#Silhouette Score\n",
    "silhouette_scores = []\n",
    "best_score = -1\n",
    "best_k = 0\n",
    "\n",
    "for k in range(2, 7):\n",
    "    kmeans = KMeans(n_clusters=k, random_state=0)\n",
    "    labels = kmeans.fit_predict(df2_scaled)\n",
    "    score = silhouette_score(df2_scaled, labels)\n",
    "    silhouette_scores.append(score)\n",
    "     #Update the optimal silhouette coefficient and the corresponding k value\n",
    "    if score > best_score:\n",
    "        best_score = score\n",
    "        best_k = k\n",
    "\n",
    "plt.subplot(1, 2, 2)\n",
    "plt.plot(range(2, 7), silhouette_scores, marker='o')\n",
    "plt.xlabel('Number of Clusters (K)')\n",
    "plt.ylabel('Silhouette Score')\n",
    "plt.title('Silhouette Score for Optimal K')\n",
    "plt.tight_layout()\n",
    "plt.show()\n",
    "print(f\"best_k: {best_k}，silhouette coefficient: {best_score}\")"
   ]
  },
  {
   "cell_type": "code",
   "execution_count": 30,
   "id": "50496218-08cf-48da-a460-b3ca264bc96d",
   "metadata": {},
   "outputs": [
    {
     "name": "stdout",
     "output_type": "stream",
     "text": [
      "The mean value of all features in each cluster:\n",
      "                   0                   1                   2   \\\n",
      "0 -0.3898012191570719  0.2623916673149328 -0.6152940245726287   \n",
      "1  0.7245457689416755 -0.4877223646701291  1.1436821134711581   \n",
      "\n",
      "                   3                   4                   5   \\\n",
      "0  0.0029118214285368 -0.5829159437747091  0.2449126250915631   \n",
      "1 -0.0054123686440034  1.0834991271292609 -0.4552330714978773   \n",
      "\n",
      "                   6                   7                   8   \\\n",
      "0 -0.4335841611084604  0.4544914112686059 -0.5834517228200965   \n",
      "1  0.8059276214953864 -0.8447891203806294  1.0844950102136257   \n",
      "\n",
      "                   9                   10                  11  \\\n",
      "0 -0.6297268870156213 -0.2946620052887642  0.3286002735406785   \n",
      "1  1.1705092984640646  0.5477050832768544 -0.6107880790671389   \n",
      "\n",
      "                   12                  13  \n",
      "0 -0.4534974696857152  0.3536413215392679  \n",
      "1  0.8429416244440686 -0.6573333038780759  \n",
      "Centroid coordinates:\n",
      "[[-0.3898012191570719  0.2623916673149329 -0.6152940245726283\n",
      "   0.0029118214285365 -0.582915943774709   0.244912625091563\n",
      "  -0.4335841611084604  0.4544914112686062 -0.5834517228200966\n",
      "  -0.6297268870156213 -0.2946620052887644  0.3286002735406782\n",
      "  -0.4534974696857151  0.3536413215392679]\n",
      " [ 0.7245457689416759 -0.4877223646701286  1.1436821134711592\n",
      "  -0.0054123686440036  1.0834991271292618 -0.4552330714978776\n",
      "   0.8059276214953867 -0.8447891203806296  1.0844950102136266\n",
      "   1.1705092984640684  0.5477050832768559 -0.610788079067139\n",
      "   0.8429416244440692 -0.6573333038780758]]\n"
     ]
    }
   ],
   "source": [
    "kmeans = KMeans(n_clusters=best_k, random_state=0)\n",
    "labels = kmeans.fit_predict(df2_scaled)\n",
    "\n",
    "#Calculate the mean value of all features in each cluster\n",
    "cluster_means = pd.DataFrame(df2_scaled).groupby(labels).mean()\n",
    "#Centroid coordinates\n",
    "centroids = kmeans.cluster_centers_\n",
    "\n",
    "np.set_printoptions(suppress=True, precision=16)\n",
    "pd.set_option('display.float_format', lambda x: '{:.16f}'.format(x))\n",
    "\n",
    "print(\"The mean value of all features in each cluster:\")\n",
    "print(cluster_means)\n",
    "print(\"Centroid coordinates:\")\n",
    "print(centroids) "
   ]
  },
  {
   "cell_type": "code",
   "execution_count": null,
   "id": "152ea77e-040b-443a-9b7e-8b8dd969e515",
   "metadata": {},
   "outputs": [],
   "source": []
  },
  {
   "cell_type": "markdown",
   "id": "90942545-1e4f-4884-944b-8cf84d312a38",
   "metadata": {},
   "source": [
    "# Problem 3"
   ]
  },
  {
   "cell_type": "code",
   "execution_count": 31,
   "id": "3540f070-0eea-4dac-903b-8efdbce8feba",
   "metadata": {},
   "outputs": [],
   "source": [
    "#Load Dataset\n",
    "wine = load_wine()\n",
    "df3 = pd.DataFrame(wine.data, columns=wine.feature_names)\n",
    "target = wine.target"
   ]
  },
  {
   "cell_type": "code",
   "execution_count": 32,
   "id": "980aed56-578c-4010-9d11-71611c81a9cf",
   "metadata": {},
   "outputs": [],
   "source": [
    "#Impute missing values with mean\n",
    "df3= df3.replace('?', np.nan)\n",
    "imputer = SimpleImputer(strategy='mean')\n",
    "data= imputer.fit_transform(df3)"
   ]
  },
  {
   "cell_type": "code",
   "execution_count": 33,
   "id": "238f2fd2-5214-4c4f-8021-7074cdf9e4df",
   "metadata": {},
   "outputs": [],
   "source": [
    "#Standardize data\n",
    "scaler = StandardScaler()\n",
    "df3_scaled = scaler.fit_transform(data)"
   ]
  },
  {
   "cell_type": "code",
   "execution_count": 34,
   "id": "feee85ec-5668-428f-b331-e0e0dcc57311",
   "metadata": {},
   "outputs": [],
   "source": [
    "# K-Means with optimal K\n",
    "kmeans = KMeans(n_clusters=3, random_state=0)\n",
    "labels = kmeans.fit_predict(df3_scaled)"
   ]
  },
  {
   "cell_type": "code",
   "execution_count": 35,
   "id": "c70129af-fac5-4974-b030-7b00c91818ea",
   "metadata": {},
   "outputs": [
    {
     "name": "stdout",
     "output_type": "stream",
     "text": [
      "Homogeneity: 0.8788432003662366\n",
      "Completeness: 0.8729636016078731\n"
     ]
    }
   ],
   "source": [
    "# Calculate homogeneity and completeness\n",
    "homogeneity = homogeneity_score(target, labels)\n",
    "completeness = completeness_score(target, labels)\n",
    "\n",
    "print(f\"Homogeneity: {homogeneity}\")\n",
    "print(f\"Completeness: {completeness}\")"
   ]
  }
 ],
 "metadata": {
  "kernelspec": {
   "display_name": "Python 3 (ipykernel)",
   "language": "python",
   "name": "python3"
  },
  "language_info": {
   "codemirror_mode": {
    "name": "ipython",
    "version": 3
   },
   "file_extension": ".py",
   "mimetype": "text/x-python",
   "name": "python",
   "nbconvert_exporter": "python",
   "pygments_lexer": "ipython3",
   "version": "3.11.4"
  }
 },
 "nbformat": 4,
 "nbformat_minor": 5
}
